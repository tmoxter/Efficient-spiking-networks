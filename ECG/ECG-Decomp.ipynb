{
  "cells": [
    {
      "cell_type": "markdown",
      "metadata": {
        "id": "qdfdXc01XNX5"
      },
      "source": [
        "\n",
        "# Efficient-spiking-networks/ECG/adapt_srnn_0.844_gpu-v1.py\n",
        "## From public github repo byin-cwi /\n",
        "---\n",
        "\n"
      ]
    },
    {
      "cell_type": "markdown",
      "metadata": {
        "id": "5Up9ImQ0XzhJ"
      },
      "source": [
        "#### Imports"
      ]
    },
    {
      "cell_type": "code",
      "execution_count": null,
      "metadata": {
        "id": "ZuqA444V81aI"
      },
      "outputs": [],
      "source": [
        "\"\"\"\n",
        "this code works,\n",
        "1. 36 recurrent neurons will lead to 84.4 percent on testset\n",
        "2. 24 recurrent neurons will lead to 81.8 percent on testset\n",
        "\"\"\"\n",
        "\n",
        "import torch\n",
        "import torch.nn as nn\n",
        "import torchvision.transforms as transforms\n",
        "import torchvision.datasets as dsets\n",
        "import torch.nn.functional as F\n",
        "import numpy as np\n",
        "from torch.autograd import Variable\n",
        "from torch.optim.lr_scheduler import StepLR,MultiStepLR\n",
        "import matplotlib.pyplot as plt\n",
        "import math\n",
        "from sklearn.utils import shuffle\n",
        "from torch.utils.data import TensorDataset, DataLoader\n",
        "from datetime import datetime\n",
        "from sklearn.metrics import confusion_matrix\n",
        "import scipy.io"
      ]
    },
    {
      "cell_type": "markdown",
      "metadata": {
        "id": "zCJVwuSiX6xi"
      },
      "source": [
        "#### Initializing some physiological and technical model parameters"
      ]
    },
    {
      "cell_type": "code",
      "execution_count": null,
      "metadata": {
        "colab": {
          "base_uri": "https://localhost:8080/"
        },
        "id": "_jNE1nAyYJOr",
        "outputId": "b4bca5f2-72a8-4c24-f479-2e997b23d93f"
      },
      "outputs": [
        {
          "name": "stdout",
          "output_type": "stream",
          "text": [
            "device:  cpu\n",
            "surrograte_type:  MG\n",
            "neuron_type:  adaptive\n"
          ]
        }
      ],
      "source": [
        "device = torch.device(\"cuda:0\" if torch.cuda.is_available() else \"cpu\")\n",
        "# device =  torch.device(\"cpu\")\n",
        "print('device: ',device)\n",
        "\n",
        "'''\n",
        "STEP 3a_v2: CREATE Adaptative spike MODEL CLASS\n",
        "'''\n",
        "b_j0 = 0.01  # neural threshold baseline\n",
        "tau_m = 20  # ms membrane potential constant\n",
        "R_m = 1  # membrane resistance\n",
        "dt = 1  #\n",
        "gamma = .5  # gradient scale #TM: Learning rate ?\n",
        "lens = 0.5\n",
        "\n",
        "surrograte_type = 'MG'\n",
        "print('surrograte_type: ',surrograte_type)\n",
        "\n",
        "neuron_type = 'adaptive'\n",
        "print('neuron_type: ',neuron_type)"
      ]
    },
    {
      "cell_type": "markdown",
      "metadata": {
        "id": "thifYfL0YMSa"
      },
      "source": [
        "#### Standard Gaussian distribution used for the new gradiant method"
      ]
    },
    {
      "cell_type": "code",
      "execution_count": null,
      "metadata": {
        "id": "cS6zi7xqYoNl"
      },
      "outputs": [],
      "source": [
        "def gaussian(x, mu=0., sigma=.5):\n",
        "    return torch.exp(-((x - mu) ** 2) / (2 * sigma ** 2)) / torch.sqrt(2 * torch.tensor(math.pi)) / sigma"
      ]
    },
    {
      "cell_type": "markdown",
      "metadata": {
        "id": "rW-o7n9JYp47"
      },
      "source": [
        "#### From autograd baseclass for individual gradient implementation. If surrogate set to 'MG', backward propagation is implemented using the multi-gaussian as defined in the paper with three normal distributions centered on the neuron's membrane potential."
      ]
    },
    {
      "cell_type": "code",
      "execution_count": null,
      "metadata": {
        "id": "vVQwRCcMaB5F"
      },
      "outputs": [],
      "source": [
        "# define approximate firing function\n",
        "\n",
        "class ActFun_adp(torch.autograd.Function):\n",
        "    @staticmethod\n",
        "    def forward(ctx, input):  # input = membrane potential- threshold\n",
        "        ctx.save_for_backward(input)\n",
        "        return input.gt(0).float()  # is firing ???\n",
        "\n",
        "    @staticmethod\n",
        "    def backward(ctx, grad_output):  # approximate the gradients\n",
        "        input, = ctx.saved_tensors\n",
        "        grad_input = grad_output.clone()\n",
        "        # temp = abs(input) < lens\n",
        "        scale = 6.0\n",
        "        hight = .15\n",
        "        if surrograte_type == 'G':\n",
        "            temp = torch.exp(-(input**2)/(2*lens**2))/torch.sqrt(2*torch.tensor(math.pi))/lens\n",
        "        elif surrograte_type == 'MG':\n",
        "            temp = gaussian(input, mu=0., sigma=lens) * (1. + hight) \\\n",
        "                - gaussian(input, mu=lens, sigma=scale * lens) * hight \\\n",
        "                - gaussian(input, mu=-lens, sigma=scale * lens) * hight\n",
        "        elif surrograte_type =='linear':\n",
        "            temp = F.relu(1-input.abs())\n",
        "        elif surrograte_type == 'slayer':\n",
        "            temp = torch.exp(-5*input.abs())\n",
        "        return grad_input * temp.float() * gamma\n",
        "# membrane potential update\n",
        "\n",
        "act_fun_adp = ActFun_adp.apply"
      ]
    },
    {
      "cell_type": "markdown",
      "metadata": {
        "id": "4M_yEESUahy3"
      },
      "source": [
        "#### Deciding between ALIF and LIF neural models, the membrane update step is defined."
      ]
    },
    {
      "cell_type": "code",
      "execution_count": null,
      "metadata": {
        "id": "yG1QkQq8af7Z"
      },
      "outputs": [],
      "source": [
        "if neuron_type =='adaptive':\n",
        "    def mem_update_adp(inputs, mem, spike, tau_m,tau_adp, b, isAdapt=1, dt=1):\n",
        "        alpha = torch.exp(-1. * dt / tau_m)#.cuda()\n",
        "        ro = torch.exp(-1. * dt / tau_adp)#.cuda()\n",
        "        # tau_adp is tau_adaptative which is learnable # add requiregredients\n",
        "        if isAdapt:\n",
        "            beta = 1.8\n",
        "        else:\n",
        "            beta = 0.\n",
        "\n",
        "        b = ro * b + (1 - ro) * spike\n",
        "        B = b_j0 + beta * b\n",
        "\n",
        "        mem = mem * alpha + (1 - alpha) * R_m * inputs - B * spike * dt\n",
        "        inputs_ = mem - B\n",
        "        spike = act_fun_adp(inputs_)  # act_fun : approximation firing function\n",
        "        return mem, spike, B, b\n",
        "\n",
        "if neuron_type  == 'LIF':\n",
        "    def mem_update_adp(inputs, mem, spike, tau_m, tau_adp, b, dt=1, isAdapt=1):\n",
        "\n",
        "        b = 0\n",
        "        B = .5\n",
        "        alpha = torch.exp(-1. * dt / tau_adp)#.cuda()\n",
        "        mem = mem *.618 + inputs#*(1- alpha)\n",
        "        inputs_ = mem - B\n",
        "        spike = act_fun_adp(inputs_)  # act_fun : approximation firing function\n",
        "        mem = (1-spike)*mem \n",
        "        return mem, spike, B, b"
      ]
    },
    {
      "cell_type": "markdown",
      "metadata": {
        "id": "b0yzyTrKfW6a"
      },
      "source": [
        "#### SRNN model with individualized forward feeding and prediction"
      ]
    },
    {
      "cell_type": "code",
      "execution_count": null,
      "metadata": {
        "id": "ZfIy9PfTfUdB"
      },
      "outputs": [],
      "source": [
        "class RNN_s(nn.Module):\n",
        "    def __init__(self, input_size, hidden_size, output_size, sub_seq_length,criterion):\n",
        "        super(RNN_s, self).__init__()\n",
        "        self.criterion = criterion\n",
        "\n",
        "        self.hidden_size = hidden_size\n",
        "        self.output_size = output_size\n",
        "        self.sub_seq_length = sub_seq_length\n",
        "        self.i2h = nn.Linear(input_size, hidden_size)\n",
        "        self.h2h = nn.Linear(hidden_size, hidden_size)\n",
        "        self.h2o = nn.Linear(hidden_size, output_size)\n",
        "\n",
        "        self.tau_adp_h = nn.Parameter(torch.Tensor(hidden_size))\n",
        "        self.tau_adp_o = nn.Parameter(torch.Tensor(output_size))\n",
        "        \n",
        "        self.tau_m_h = nn.Parameter(torch.Tensor(hidden_size))\n",
        "        self.tau_m_o = nn.Parameter(torch.Tensor(output_size))\n",
        "        \n",
        "        nn.init.orthogonal_(self.h2h.weight)\n",
        "        nn.init.xavier_uniform_(self.i2h.weight)\n",
        "        nn.init.xavier_uniform_(self.h2o.weight)\n",
        "        nn.init.constant_(self.i2h.bias, 0)\n",
        "        nn.init.constant_(self.h2h.bias, 0)\n",
        "        nn.init.constant_(self.h2o.bias, 0)\n",
        "\n",
        "        nn.init.constant_(self.tau_adp_h, 7) #7\n",
        "        nn.init.constant_(self.tau_adp_o, 100)\n",
        "        nn.init.constant_(self.tau_m_h, 20) #7\n",
        "        nn.init.constant_(self.tau_m_o, 20)\n",
        "        \n",
        "        self.b_h = self.b_o = 0\n",
        "\n",
        "    def forward(self, input,labels):\n",
        "        self.b_h = self.b_o = b_j0\n",
        "        total_spikes = 0\n",
        "        # Feed in the whole sequence\n",
        "        batch_size, seq_num, input_dim = input.shape\n",
        "        hidden_mem = hidden_spike = (torch.rand(batch_size, self.hidden_size)*b_j0)#TM:.cuda()\n",
        "        output_mem = output_spike = out_spike = (torch.rand(batch_size, self.output_size)*b_j0)#TM:.cuda()\n",
        "        output_spike_sum = torch.zeros(batch_size,seq_num, self.output_size)#TM:.cuda()\n",
        "        self.b_h = self.b_o = 0.01\n",
        "\n",
        "        max_iters = 1301\n",
        "        loss = 0\n",
        "\n",
        "        output_ = []\n",
        "        I_h = []\n",
        "        predictions = []\n",
        "        for i in range(max_iters): # Go through the sequence\n",
        "            if i < seq_num:\n",
        "                input_x = input[:, i, :]\n",
        "            else:\n",
        "                input_x = torch.zeros(batch_size,input_dim)\n",
        "\n",
        "            #################   update states  #########################\n",
        "            h_input = self.i2h(input_x.float()) + self.h2h(hidden_spike)\n",
        "            hidden_mem, hidden_spike, theta_h, self.b_h = mem_update_adp(h_input,hidden_mem, hidden_spike,self.tau_m_h,\n",
        "                                                                            self.tau_adp_h, self.b_h,isAdapt=0)#0\n",
        "\n",
        "            I_h.append(h_input.data.cpu().numpy())\n",
        "            o_input = self.h2o(hidden_spike)\n",
        "            output_mem, output_spike, theta_o, self.b_o = mem_update_adp(o_input,output_mem,output_spike,self.tau_m_o, \n",
        "                                                                         self.tau_adp_o, self.b_o,isAdapt=1)#, dt=input_dt_o)\n",
        "            output_spike_sum[:,i,:] = output_spike\n",
        "            total_spikes = total_spikes + int(hidden_spike.sum() + output_spike.sum())\n",
        "            #################   classification  #########################\n",
        "            if i >= self.sub_seq_length:\n",
        "                output_sumspike = output_mem #output_spike_sum[:, i-1:i, :].sum(axis=1)\n",
        "                output_sumspike = F.log_softmax(output_sumspike,dim=1)\n",
        "\n",
        "                predictions.append(output_sumspike.data.cpu().numpy())\n",
        "                output_.append(output_sumspike.data.cpu().numpy())\n",
        "                loss += self.criterion(output_sumspike, labels[:, i])\n",
        "\n",
        "        predictions = torch.tensor(predictions)\n",
        "        return predictions, loss , total_spikes\n",
        "\n",
        "    def predict(self,input, lablel):\n",
        "        prediction = self.forward(input, lablel)\n",
        "        # prediction, _, total_spikes = self.forward(dt_h, dt_o, max_i, input, lablel)\n",
        "        return prediction"
      ]
    },
    {
      "cell_type": "markdown",
      "metadata": {
        "id": "COkUSDs8hGmv"
      },
      "source": [
        "#### Train model in-place by reference, return training accuracies"
      ]
    },
    {
      "cell_type": "code",
      "execution_count": null,
      "metadata": {
        "id": "hXXS0LYfg1H3"
      },
      "outputs": [],
      "source": [
        "def train(model,dims, loader,optimizer,scheduler=None,num_epochs=10):\n",
        "    best_acc = 0\n",
        "    path = 'model/'  # .pth'\n",
        "    acc_list=[]\n",
        "    for epoch in range(num_epochs):\n",
        "        train_acc = 0\n",
        "        train_loss_sum = 0\n",
        "        sum_samples = 0\n",
        "        for i, (images, labels) in enumerate(loader):\n",
        "            images = images.view(-1, dims[\"samples\"], dims[\"input\"]).requires_grad_().to(device)#images.view(-1, num_samples, input_dim).requires_grad_().to(device)\n",
        "            labels = labels.view((-1,dims[\"samples\"])).long().to(device)\n",
        "\n",
        "            # Clear gradients w.r.t. parameters\n",
        "            optimizer.zero_grad()\n",
        "            # Forward pass to get output/logits\n",
        "            predictions, train_loss,_ = model(images, labels)\n",
        "\n",
        "            _, predicted = torch.max(predictions.data, 2)\n",
        "            \n",
        "            # Getting gradients w.r.t. parameters\n",
        "            train_loss.backward()\n",
        "            train_loss_sum += train_loss\n",
        "            optimizer.step()\n",
        "\n",
        "            labels = labels.cpu()\n",
        "            #print(predicted.type(), labels.type())\n",
        "            predicted = predicted.cpu().t()\n",
        "            train_acc += (predicted == labels[:, dims[\"sub_seq\"]:predicted.shape[1] + dims[\"sub_seq\"]]).sum()\n",
        "            sum_samples = sum_samples + predicted.numel()\n",
        "            # train_acc += (predicted == labels).sum()\n",
        "        if scheduler is not None:\n",
        "            scheduler.step()\n",
        "        train_acc = train_acc.data.cpu().numpy() / sum_samples\n",
        "        if train_acc>best_acc and train_acc>0.80:\n",
        "            best_acc = train_acc\n",
        "            torch.save(model.state_dict(), path+str(best_acc)[:5]+'-wt-new.pth')\n",
        "\n",
        "        acc_list.append(train_acc)\n",
        "        print('epoch: {:3d}, Train Loss: {:.4f}, Train Acc: {:.4f}'.format(epoch,\n",
        "                                                                           train_loss_sum.item()/len(loader)/(1300-dims[\"sub_seq\"]),\n",
        "                                                                           train_acc), flush=True)\n",
        "    return acc_list"
      ]
    },
    {
      "cell_type": "markdown",
      "metadata": {
        "id": "svVa2SFqhCFg"
      },
      "source": [
        "#### Some helper functions"
      ]
    },
    {
      "cell_type": "code",
      "execution_count": null,
      "metadata": {
        "id": "Loas0hXohita"
      },
      "outputs": [],
      "source": [
        "import scipy.signal as ssg\n",
        "def convert_seq(x,threshold=0.03):\n",
        "    l = len(x)\n",
        "    x= ssg.savgol_filter(x, 5, 3)\n",
        "    X = np.zeros((l,2))\n",
        "    for i in range(len(x)-1):\n",
        "        if x[i+1] - x[i] >= threshold:\n",
        "            X[i,0] = 1\n",
        "        elif x[i] - x[i+1] >= threshold:\n",
        "            X[i,1] = 1\n",
        "    return X\n",
        "\n",
        "\n",
        "def expand_dim(x, N):\n",
        "    y = np.zeros((x.shape[0], x.shape[1], N))\n",
        "    for i in range(x.shape[0]):\n",
        "        y[i, :, :] = np.tile(x[i,:], (N,1)).transpose()\n",
        "\n",
        "    return y\n",
        "\n",
        "def lbl_to_spike(prediction):\n",
        "    N = len(prediction)\n",
        "    detections = np.zeros(N)\n",
        "    for i in range(1, N):\n",
        "        if (prediction[i] != prediction[i-1]):\n",
        "            detections[i] = prediction[i]+1\n",
        "    return detections\n",
        "\n",
        "\n",
        "def calculate_stats(prediction, lbl, tol):\n",
        "    decisions = lbl_to_spike(prediction)\n",
        "    labs = lbl_to_spike(lbl)\n",
        "\n",
        "    lbl_indices = np.nonzero(labs)\n",
        "    lbl_indices = np.array(lbl_indices).flatten()\n",
        "\n",
        "    dist = np.zeros((len(lbl_indices), 6))\n",
        "    for i in range(len(lbl_indices)):\n",
        "        index = lbl_indices[i]\n",
        "        lab = int(labs[index])\n",
        "        dec_indices = np.array(np.nonzero((decisions-lab) == 0)).flatten()  #indices where decisions == lab\n",
        "        if len(dec_indices) == 0:\n",
        "            dist[i, lab - 1] = 250\n",
        "            continue\n",
        "        j = np.argmin(np.abs(dec_indices - index))  # j is closest val in dec_indices to index\n",
        "        dist[i, lab-1] = abs(dec_indices[j]-index)\n",
        "        if (dist[i, lab-1] <= tol):\n",
        "            decisions[dec_indices[j]] = 0 # mark as handled\n",
        "\n",
        "    mean_error = np.mean(dist, axis=0)\n",
        "    TP = np.sum(dist <= tol, axis=0)\n",
        "    FN = np.sum(dist > tol, axis=0)\n",
        "\n",
        "    FP = np.zeros(6)\n",
        "    for i in decisions[(decisions > 0)]:\n",
        "        FP[int(i-1)] += 1\n",
        "\n",
        "    return mean_error, TP, FN, FP\n",
        "\n",
        "def convert_dataset_wtime(mat_data):\n",
        "    X = mat_data[\"x\"]\n",
        "    Y = mat_data[\"y\"]\n",
        "    t = mat_data[\"t\"]\n",
        "    Y = np.argmax(Y[:, :, :], axis=-1)\n",
        "    d1,d2 =  t.shape\n",
        "\n",
        "    # dt = np.zeros((size(t[:, 1]), size(t[1, :])))\n",
        "    dt = np.zeros((d1,d2))\n",
        "    for trace in range(d1):\n",
        "        dt[trace, 0] = 1\n",
        "        dt[trace, 1:] = t[trace, 1:] - t[trace, :-1]\n",
        "\n",
        "    return dt, X, Y\n",
        "\n",
        "\n",
        "def load_max_i(mat_data):\n",
        "    max_i = mat_data[\"max_i\"]\n",
        "    return np.array(max_i.squeeze(),dtype=np.float16)"
      ]
    },
    {
      "cell_type": "markdown",
      "metadata": {
        "id": "Yg53y-damPUt"
      },
      "source": [
        "#### Step by Step execution"
      ]
    },
    {
      "cell_type": "code",
      "execution_count": null,
      "metadata": {
        "id": "fIpQVzOymIHw"
      },
      "outputs": [],
      "source": [
        "train_mat = scipy.io.loadmat('SRNN_Datasets/QTDB_train.mat')\n",
        "test_mat = scipy.io.loadmat('SRNN_Datasets/QTDB_test.mat')"
      ]
    },
    {
      "cell_type": "code",
      "execution_count": null,
      "metadata": {
        "colab": {
          "base_uri": "https://localhost:8080/"
        },
        "id": "agaAjImjmTY3",
        "outputId": "899df3f1-7eeb-49f6-ea62-0848e6613b53"
      },
      "outputs": [
        {
          "name": "stdout",
          "output_type": "stream",
          "text": [
            "sequence length: 1301 , input dimension: 4\n",
            "training dataset distribution:  (618, 1301)\n",
            "test dataset distribution:  (141, 1301)\n"
          ]
        }
      ],
      "source": [
        "train_dt, train_x, train_y = convert_dataset_wtime(train_mat)\n",
        "train_max_i = load_max_i(train_mat)\n",
        "test_dt, test_x, test_y = convert_dataset_wtime(test_mat)\n",
        "test_max_i = load_max_i(test_mat)\n",
        "nb_of_sample, seq_dim, input_dim = np.shape(train_x)\n",
        "print('sequence length: {} , input dimension: {}'.format(seq_dim, input_dim))\n",
        "print('training dataset distribution: ',train_y.shape)\n",
        "print('test dataset distribution: ',test_y.shape)"
      ]
    },
    {
      "cell_type": "code",
      "execution_count": null,
      "metadata": {
        "id": "Z5dJzCM-maGD"
      },
      "outputs": [],
      "source": [
        "# STEP 2: MAKING DATASET ITERABLE\n",
        "batch_size = 64\n",
        "n_iters = 300\n",
        "lens = 0.5  # hyper-parameters of approximate function\n",
        "#num_epochs = 1#250  # n_iters / (len(train_dataset) / batch_size)\n",
        "num_epochs = 0#400 #400\n",
        "#nb_of_batch = nb_of_sample // batch_size\n",
        "\n",
        "sub_seq_length = 10\n",
        "#L = seq_dim - sub_seq_length\n",
        "hidden_dim = 36\n",
        "if neuron_type =='LIF': hidden_dim = 36\n",
        "output_dim = 6\n",
        "\n",
        "train_data = TensorDataset(torch.from_numpy(train_x*1.),torch.from_numpy(train_y))\n",
        "train_loader = DataLoader(train_data, shuffle=True, batch_size=batch_size, drop_last=False)\n",
        "test_data = TensorDataset(torch.from_numpy(test_x*1.),torch.from_numpy(test_y))\n",
        "test_loader = DataLoader(test_data, shuffle=True, batch_size=batch_size, drop_last=False)\n",
        "\n",
        "criterion = nn.NLLLoss()\n",
        "model = RNN_s(input_size=input_dim, hidden_size=hidden_dim,\n",
        "              output_size=output_dim, sub_seq_length=sub_seq_length,criterion=criterion)\n",
        "\n",
        "model.to(device)\n",
        "\n",
        "\n",
        "learning_rate =1e-2\n",
        "\n",
        "base_params = [model.i2h.weight, model.i2h.bias, model.h2h.weight,\n",
        "                model.h2h.bias, model.h2o.weight, model.h2o.bias]\n",
        "\n",
        "optimizer = torch.optim.Adam([\n",
        "    {'params': base_params},\n",
        "    {'params': model.tau_m_h, 'lr': learning_rate * 3},\n",
        "    {'params': model.tau_m_o, 'lr': learning_rate * 2},\n",
        "    {'params': model.tau_adp_h, 'lr': learning_rate * 3},\n",
        "    {'params': model.tau_adp_o, 'lr': learning_rate * 2}, ],\n",
        "    lr=learning_rate)\n",
        "# scheduler = StepLR(optimizer, step_size=100, gamma=.75) # gaussian\n",
        "scheduler = StepLR(optimizer, step_size=100, gamma=.5) # LIF\n",
        "\n",
        "# training network\n",
        "dims = {\n",
        "    \"samples\": seq_dim,\n",
        "    \"input\": input_dim,\n",
        "    \"hidden\": hidden_dim,\n",
        "    \"output\": output_dim,\n",
        "    \"sub_seq\": sub_seq_length\n",
        "}"
      ]
    },
    {
      "cell_type": "code",
      "execution_count": null,
      "metadata": {
        "id": "xdLV32YUnqzU"
      },
      "outputs": [],
      "source": [
        "num_epochs = 5"
      ]
    },
    {
      "cell_type": "code",
      "execution_count": null,
      "metadata": {
        "colab": {
          "base_uri": "https://localhost:8080/"
        },
        "id": "88w5bRsDo6ja",
        "outputId": "2355ef86-5146-4991-bc6f-e10a3e52558e"
      },
      "outputs": [
        {
          "data": {
            "text/plain": [
              "RNN_s(\n",
              "  (criterion): NLLLoss()\n",
              "  (i2h): Linear(in_features=4, out_features=36, bias=True)\n",
              "  (h2h): Linear(in_features=36, out_features=36, bias=True)\n",
              "  (h2o): Linear(in_features=36, out_features=6, bias=True)\n",
              ")"
            ]
          },
          "execution_count": 14,
          "metadata": {},
          "output_type": "execute_result"
        }
      ],
      "source": [
        "model"
      ]
    },
    {
      "cell_type": "code",
      "execution_count": null,
      "metadata": {
        "colab": {
          "base_uri": "https://localhost:8080/"
        },
        "id": "K7TL3BEmnJCp",
        "outputId": "671e1170-1c5d-4766-ef05-d7752c1f1fe8"
      },
      "outputs": [
        {
          "name": "stderr",
          "output_type": "stream",
          "text": [
            "/usr/local/lib/python3.7/dist-packages/ipykernel_launcher.py:75: UserWarning: Creating a tensor from a list of numpy.ndarrays is extremely slow. Please consider converting the list to a single numpy.ndarray with numpy.array() before converting to a tensor. (Triggered internally at  ../torch/csrc/utils/tensor_new.cpp:201.)\n"
          ]
        },
        {
          "name": "stdout",
          "output_type": "stream",
          "text": [
            "epoch:   0, Train Loss: 1.6057, Train Acc: 0.3132\n",
            "epoch:   1, Train Loss: 1.5205, Train Acc: 0.3199\n",
            "epoch:   2, Train Loss: 1.4820, Train Acc: 0.3338\n",
            "epoch:   3, Train Loss: 1.4299, Train Acc: 0.3532\n",
            "epoch:   4, Train Loss: 1.3747, Train Acc: 0.4362\n"
          ]
        }
      ],
      "source": [
        "train_acc_list = train(model,dims, train_loader,optimizer,scheduler,num_epochs=num_epochs)"
      ]
    },
    {
      "cell_type": "code",
      "execution_count": null,
      "metadata": {
        "colab": {
          "base_uri": "https://localhost:8080/"
        },
        "id": "j6VGTY1_nLw1",
        "outputId": "727ca0d0-5a48-4e16-fbd2-c5bda9dae847"
      },
      "outputs": [
        {
          "data": {
            "text/plain": [
              "RNN_s(\n",
              "  (criterion): NLLLoss()\n",
              "  (i2h): Linear(in_features=4, out_features=36, bias=True)\n",
              "  (h2h): Linear(in_features=36, out_features=36, bias=True)\n",
              "  (h2o): Linear(in_features=36, out_features=6, bias=True)\n",
              ")"
            ]
          },
          "execution_count": 20,
          "metadata": {},
          "output_type": "execute_result"
        }
      ],
      "source": [
        "model"
      ]
    },
    {
      "cell_type": "code",
      "execution_count": null,
      "metadata": {
        "colab": {
          "base_uri": "https://localhost:8080/",
          "height": 513
        },
        "id": "0cPVG822tsoA",
        "outputId": "4b206435-3757-465d-8325-20c02af13cc7"
      },
      "outputs": [
        {
          "data": {
            "image/png": "[encoded data removed]",
            "text/plain": [
              "<Figure size 432x288 with 1 Axes>"
            ]
          },
          "metadata": {
            "needs_background": "light"
          },
          "output_type": "display_data"
        },
        {
          "data": {
            "image/png": "[encoded data removed]",
            "text/plain": [
              "<Figure size 432x288 with 1 Axes>"
            ]
          },
          "metadata": {
            "needs_background": "light"
          },
          "output_type": "display_data"
        }
      ],
      "source": [
        "test_seq_dim = test_x.shape[1]\n",
        "\n",
        "tau_adp_o = model.tau_adp_o.detach().cpu().numpy()\n",
        "plt.plot(tau_adp_o)\n",
        "plt.show()\n",
        "tau_adp_h = model.tau_adp_h.detach().cpu().numpy()\n",
        "plt.plot(tau_adp_h)\n",
        "plt.show()"
      ]
    },
    {
      "cell_type": "code",
      "execution_count": null,
      "metadata": {
        "colab": {
          "base_uri": "https://localhost:8080/"
        },
        "id": "uy75_QtQt2WL",
        "outputId": "7e7b7871-06a0-478b-ad85-7399986161ee"
      },
      "outputs": [
        {
          "name": "stdout",
          "output_type": "stream",
          "text": [
            "0 0.576297443841983\n",
            "10 0.5620026758678967\n",
            "20 0.5219283685588876\n",
            "30 0.5194023137852628\n",
            "40 0.5286505072641741\n",
            "50 0.5245363831047524\n",
            "60 0.49990476311411913\n",
            "70 0.510315183120411\n",
            "80 0.5006646202101921\n",
            "90 0.5058179620534384\n",
            "100 0.5133943293632229\n",
            "110 0.5162141227207068\n",
            "120 0.5131200747706628\n",
            "130 0.5117046375080565\n",
            "140 0.5084848185199224\n",
            "fr: 0.3775625535237618\n",
            "test accuracy:  0.5084848185199224\n",
            "[[ 7253     0     0     0  2446 32100]\n",
            " [ 1760     0     0     2   180  8203]\n",
            " [  384     0     0    20   344  9092]\n",
            " [   54     0     0    18  2388  6605]\n",
            " [  496     0     0     2 38565 16822]\n",
            " [ 5643     0     0     0  2930 46724]]\n",
            "classification report :               precision    recall  f1-score   support\n",
            "\n",
            "           0       0.47      0.17      0.25     41799\n",
            "           1       0.00      0.00      0.00     10145\n",
            "           2       0.00      0.00      0.00      9840\n",
            "           3       0.43      0.00      0.00      9065\n",
            "           4       0.82      0.69      0.75     55885\n",
            "           5       0.39      0.84      0.53     55297\n",
            "\n",
            "    accuracy                           0.51    182031\n",
            "   macro avg       0.35      0.29      0.26    182031\n",
            "weighted avg       0.50      0.51      0.45    182031\n",
            "\n"
          ]
        },
        {
          "name": "stderr",
          "output_type": "stream",
          "text": [
            "/usr/local/lib/python3.7/dist-packages/sklearn/metrics/_classification.py:1308: UndefinedMetricWarning: Precision and F-score are ill-defined and being set to 0.0 in labels with no predicted samples. Use `zero_division` parameter to control this behavior.\n",
            "  _warn_prf(average, modifier, msg_start, len(result))\n",
            "/usr/local/lib/python3.7/dist-packages/sklearn/metrics/_classification.py:1308: UndefinedMetricWarning: Precision and F-score are ill-defined and being set to 0.0 in labels with no predicted samples. Use `zero_division` parameter to control this behavior.\n",
            "  _warn_prf(average, modifier, msg_start, len(result))\n",
            "/usr/local/lib/python3.7/dist-packages/sklearn/metrics/_classification.py:1308: UndefinedMetricWarning: Precision and F-score are ill-defined and being set to 0.0 in labels with no predicted samples. Use `zero_division` parameter to control this behavior.\n",
            "  _warn_prf(average, modifier, msg_start, len(result))\n"
          ]
        }
      ],
      "source": [
        "acc = []\n",
        "predicted_list = []\n",
        "labels_list = []\n",
        "fr_list = []\n",
        "stats = {\"err\": 0, \"TP\": 0, \"FP\": 0, \"FN\": 0}\n",
        "for i in range(len(test_x)):\n",
        "    x_emp = test_x[i:i+1]\n",
        "    y_emp = test_y[i:i+1]\n",
        "\n",
        "    images = torch.tensor(x_emp*1.).view((-1, test_seq_dim, input_dim)).requires_grad_().to(device)\n",
        "    labels = torch.tensor(y_emp).view((-1, test_seq_dim)).long().to(device)\n",
        "\n",
        "    pred,_,spike=  model.forward(images,labels) #model.predict(images,labels)\n",
        "    # print(pred.shape, pred.dtype)\n",
        "    # print(pred.numpy().shape )\n",
        "    a_len = 1301-sub_seq_length\n",
        "    a_np = pred.data.cpu().numpy().reshape(a_len, 6)\n",
        "    a_np_pred = np.argmax(a_np, axis=1)\n",
        "    labels = y_emp[0, sub_seq_length:sub_seq_length+a_len].reshape(a_len)\n",
        "    acc_ = (a_np_pred == labels).sum() / int(a_len)\n",
        "    acc.append(acc_)\n",
        "    labels_list.extend(labels)\n",
        "    predicted_list.extend(a_np_pred)\n",
        "    fr_list.append(spike)\n",
        "    if i%10 == 0:\n",
        "        print(i,np.mean(acc))\n",
        "\n",
        "    err, TP, FN, FP = calculate_stats(a_np_pred[30:-30], labels[30:-30], 0.150 * 250)\n",
        "    stats[\"err\"] = stats[\"err\"] + err / len(test_x)\n",
        "    stats[\"TP\"] = stats[\"TP\"] + TP\n",
        "    stats[\"FP\"] = stats[\"FP\"] + FP\n",
        "    stats[\"FN\"] = stats[\"FN\"] + FN\n",
        "\n",
        "print('fr:',np.mean(fr_list)/1301./42.)\n",
        "test_acc = np.mean(acc)\n",
        "print('test accuracy: ',np.mean(acc))\n",
        "\n",
        "predicted_list = np.array(predicted_list).reshape((-1,))\n",
        "labels_list = np.array(labels_list).reshape(((-1,)))\n",
        "cm = confusion_matrix(labels_list, predicted_list)\n",
        "print(cm)\n",
        "from sklearn import metrics\n",
        "\n",
        "print(\"classification report :\", metrics.classification_report(labels_list, predicted_list))"
      ]
    },
    {
      "cell_type": "markdown",
      "metadata": {
        "id": "3dBxc0hAjjN2"
      },
      "source": [
        "### Execution of .py call:"
      ]
    },
    {
      "cell_type": "code",
      "execution_count": null,
      "metadata": {
        "id": "o7S9GbMl8AA9"
      },
      "outputs": [],
      "source": [
        "#if __name__ == '__main__':\n",
        "# STEP 2: LOADING DATASET\n",
        "train_mat = scipy.io.loadmat('SRNN_Datasets/QTDB_train.mat')\n",
        "test_mat = scipy.io.loadmat('SRNN_Datasets/QTDB_test.mat')\n",
        "\n",
        "# # old dataset\n",
        "# xxt = np.load('dataset/test_y.npy')\n",
        "# print(xxt.shape)\n",
        "# xxt = np.load('dataset/xxt.npy')\n",
        "# yyt = np.load('dataset/yyt.npy')\n",
        "# xxv = np.load('dataset/xxv.npy')\n",
        "# yyv = np.load('dataset/yyv.npy')\n",
        "\n",
        "train_dt, train_x, train_y = convert_dataset_wtime(train_mat)\n",
        "train_max_i = load_max_i(train_mat)\n",
        "test_dt, test_x, test_y = convert_dataset_wtime(test_mat)\n",
        "test_max_i = load_max_i(test_mat)\n",
        "\n",
        "nb_of_sample, seq_dim, input_dim = np.shape(train_x)\n",
        "print('sequence length: {} , input dimension: {}'.format(seq_dim, input_dim))\n",
        "print('training dataset distribution: ',train_y.shape)\n",
        "print('test dataset distribution: ',test_y.shape)\n",
        "\n",
        "# STEP 2: MAKING DATASET ITERABLE\n",
        "batch_size = 64\n",
        "n_iters = 300000\n",
        "lens = 0.5  # hyper-parameters of approximate function\n",
        "#num_epochs = 1#250  # n_iters / (len(train_dataset) / batch_size)\n",
        "num_epochs = 0#400 #400\n",
        "#nb_of_batch = nb_of_sample // batch_size\n",
        "\n",
        "sub_seq_length = 10\n",
        "#L = seq_dim - sub_seq_length\n",
        "hidden_dim = 36\n",
        "if neuron_type =='LIF': hidden_dim = 36\n",
        "output_dim = 6\n",
        "\n",
        "train_data = TensorDataset(torch.from_numpy(train_x*1.),torch.from_numpy(train_y))\n",
        "train_loader = DataLoader(train_data, shuffle=True, batch_size=batch_size, drop_last=False)\n",
        "test_data = TensorDataset(torch.from_numpy(test_x*1.),torch.from_numpy(test_y))\n",
        "test_loader = DataLoader(test_data, shuffle=True, batch_size=batch_size, drop_last=False)\n",
        "\n",
        "criterion = nn.NLLLoss()\n",
        "model = RNN_s(input_size=input_dim, hidden_size=hidden_dim,\n",
        "              output_size=output_dim, sub_seq_length=sub_seq_length,criterion=criterion)\n",
        "\n",
        "model.to(device)\n",
        "\n",
        "\n",
        "learning_rate =1e-2\n",
        "\n",
        "base_params = [model.i2h.weight, model.i2h.bias, model.h2h.weight,\n",
        "                model.h2h.bias, model.h2o.weight, model.h2o.bias]\n",
        "\n",
        "optimizer = torch.optim.Adam([\n",
        "    {'params': base_params},\n",
        "    {'params': model.tau_m_h, 'lr': learning_rate * 3},\n",
        "    {'params': model.tau_m_o, 'lr': learning_rate * 2},\n",
        "    {'params': model.tau_adp_h, 'lr': learning_rate * 3},\n",
        "    {'params': model.tau_adp_o, 'lr': learning_rate * 2}, ],\n",
        "    lr=learning_rate)\n",
        "# scheduler = StepLR(optimizer, step_size=100, gamma=.75) # gaussian\n",
        "scheduler = StepLR(optimizer, step_size=100, gamma=.5) # LIF\n",
        "\n",
        "# training network\n",
        "dims = {\n",
        "    \"samples\": seq_dim,\n",
        "    \"input\": input_dim,\n",
        "    \"hidden\": hidden_dim,\n",
        "    \"output\": output_dim,\n",
        "    \"sub_seq\": sub_seq_length\n",
        "}\n",
        "# with sechdual\n",
        "train_acc_list = train(model,dims, train_loader,optimizer,scheduler,num_epochs=num_epochs)\n",
        "# without sechdual\n",
        "\n",
        "# train_acc_list = train(model, dims, train_loader, optimizer, num_epochs=num_epochs) # gaussian\n",
        "# test and visualization\n",
        "test_seq_dim = test_x.shape[1]\n",
        "\n",
        "tau_adp_o = model.tau_adp_o.detach().cpu().numpy()\n",
        "plt.plot(tau_adp_o)\n",
        "plt.show()\n",
        "tau_adp_h = model.tau_adp_h.detach().cpu().numpy()\n",
        "plt.plot(tau_adp_h)\n",
        "plt.show()\n",
        "\n",
        "acc = []\n",
        "predicted_list = []\n",
        "labels_list = []\n",
        "fr_list = []\n",
        "stats = {\"err\": 0, \"TP\": 0, \"FP\": 0, \"FN\": 0}\n",
        "for i in range(len(test_x)):\n",
        "    x_emp = test_x[i:i+1]\n",
        "    y_emp = test_y[i:i+1]\n",
        "\n",
        "    images = torch.tensor(x_emp*1.).view((-1, test_seq_dim, input_dim)).requires_grad_().to(device)\n",
        "    labels = torch.tensor(y_emp).view((-1, test_seq_dim)).long().to(device)\n",
        "\n",
        "    pred,_,spike=  model.forward(images,labels) #model.predict(images,labels)\n",
        "    # print(pred.shape, pred.dtype)\n",
        "    # print(pred.numpy().shape )\n",
        "    a_len = 1301-sub_seq_length\n",
        "    a_np = pred.data.cpu().numpy().reshape(a_len, 6)\n",
        "    a_np_pred = np.argmax(a_np, axis=1)\n",
        "    labels = y_emp[0, sub_seq_length:sub_seq_length+a_len].reshape(a_len)\n",
        "    acc_ = (a_np_pred == labels).sum() / int(a_len)\n",
        "    acc.append(acc_)\n",
        "    labels_list.extend(labels)\n",
        "    predicted_list.extend(a_np_pred)\n",
        "    fr_list.append(spike)\n",
        "    if i%10 == 0:\n",
        "        print(i,np.mean(acc))\n",
        "\n",
        "    err, TP, FN, FP = calculate_stats(a_np_pred[30:-30], labels[30:-30], 0.150 * 250)\n",
        "    stats[\"err\"] = stats[\"err\"] + err / len(test_x)\n",
        "    stats[\"TP\"] = stats[\"TP\"] + TP\n",
        "    stats[\"FP\"] = stats[\"FP\"] + FP\n",
        "    stats[\"FN\"] = stats[\"FN\"] + FN\n",
        "\n",
        "print('fr:',np.mean(fr_list)/1301./42.)\n",
        "test_acc = np.mean(acc)\n",
        "print('test accuracy: ',np.mean(acc))\n",
        "\n",
        "predicted_list = np.array(predicted_list).reshape((-1,))\n",
        "labels_list = np.array(labels_list).reshape(((-1,)))\n",
        "cm = confusion_matrix(labels_list, predicted_list)\n",
        "print(cm)\n",
        "from sklearn import metrics\n",
        "\n",
        "print(\"classification report :\", metrics.classification_report(labels_list, predicted_list))\n",
        "path = './model_'+str(test_acc)+'_'+str(hidden_dim)+'_MG.pth'\n",
        "torch.save(model.state_dict(), path)\n"
      ]
    }
  ],
  "metadata": {
    "colab": {
      "name": "Untitled0.ipynb",
      "provenance": []
    },
    "kernelspec": {
      "display_name": "Python 3",
      "name": "python3"
    },
    "language_info": {
      "name": "python"
    }
  },
  "nbformat": 4,
  "nbformat_minor": 0
}
